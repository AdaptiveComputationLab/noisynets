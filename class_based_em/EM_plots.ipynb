{
 "cells": [
  {
   "cell_type": "code",
   "execution_count": 1,
   "id": "political-conjunction",
   "metadata": {},
   "outputs": [],
   "source": [
    "import pandas as pd\n",
    "import matplotlib.pyplot as plt"
   ]
  },
  {
   "cell_type": "code",
   "execution_count": 22,
   "id": "higher-aruba",
   "metadata": {},
   "outputs": [],
   "source": [
    "df=  pd.read_csv(\"test.csv\", comment=\"#\")"
   ]
  },
  {
   "cell_type": "code",
   "execution_count": 23,
   "id": "minute-fellow",
   "metadata": {},
   "outputs": [
    {
     "data": {
      "text/html": [
       "<div>\n",
       "<style scoped>\n",
       "    .dataframe tbody tr th:only-of-type {\n",
       "        vertical-align: middle;\n",
       "    }\n",
       "\n",
       "    .dataframe tbody tr th {\n",
       "        vertical-align: top;\n",
       "    }\n",
       "\n",
       "    .dataframe thead th {\n",
       "        text-align: right;\n",
       "    }\n",
       "</style>\n",
       "<table border=\"1\" class=\"dataframe\">\n",
       "  <thead>\n",
       "    <tr style=\"text-align: right;\">\n",
       "      <th></th>\n",
       "      <th>step</th>\n",
       "      <th>rho</th>\n",
       "      <th>alpha_0</th>\n",
       "      <th>alpha_1</th>\n",
       "      <th>alpha_2</th>\n",
       "      <th>alpha_3</th>\n",
       "      <th>alpha_4</th>\n",
       "      <th>alpha_5</th>\n",
       "      <th>alpha_6</th>\n",
       "      <th>alpha_7</th>\n",
       "      <th>...</th>\n",
       "      <th>beta_5</th>\n",
       "      <th>beta_6</th>\n",
       "      <th>beta_7</th>\n",
       "      <th>beta_8</th>\n",
       "      <th>beta_9</th>\n",
       "      <th>beta_10</th>\n",
       "      <th>beta_11</th>\n",
       "      <th>beta_12</th>\n",
       "      <th>beta_13</th>\n",
       "      <th>beta_14</th>\n",
       "    </tr>\n",
       "  </thead>\n",
       "  <tbody>\n",
       "    <tr>\n",
       "      <th>0</th>\n",
       "      <td>0</td>\n",
       "      <td>1.000000e-01</td>\n",
       "      <td>0.9</td>\n",
       "      <td>0.9</td>\n",
       "      <td>0.9</td>\n",
       "      <td>0.9</td>\n",
       "      <td>0.9</td>\n",
       "      <td>0.9</td>\n",
       "      <td>0.9</td>\n",
       "      <td>0.9</td>\n",
       "      <td>...</td>\n",
       "      <td>0.100000</td>\n",
       "      <td>0.100000</td>\n",
       "      <td>0.100000</td>\n",
       "      <td>0.100000</td>\n",
       "      <td>0.100000</td>\n",
       "      <td>0.100000</td>\n",
       "      <td>0.100000</td>\n",
       "      <td>0.100000</td>\n",
       "      <td>0.100000</td>\n",
       "      <td>0.100000</td>\n",
       "    </tr>\n",
       "    <tr>\n",
       "      <th>1</th>\n",
       "      <td>1</td>\n",
       "      <td>7.505730e-06</td>\n",
       "      <td>1.0</td>\n",
       "      <td>1.0</td>\n",
       "      <td>1.0</td>\n",
       "      <td>1.0</td>\n",
       "      <td>1.0</td>\n",
       "      <td>1.0</td>\n",
       "      <td>1.0</td>\n",
       "      <td>1.0</td>\n",
       "      <td>...</td>\n",
       "      <td>0.392064</td>\n",
       "      <td>0.754141</td>\n",
       "      <td>0.266559</td>\n",
       "      <td>0.000021</td>\n",
       "      <td>0.000008</td>\n",
       "      <td>0.000233</td>\n",
       "      <td>0.000148</td>\n",
       "      <td>0.000348</td>\n",
       "      <td>0.000010</td>\n",
       "      <td>0.000098</td>\n",
       "    </tr>\n",
       "    <tr>\n",
       "      <th>2</th>\n",
       "      <td>2</td>\n",
       "      <td>7.312690e-08</td>\n",
       "      <td>1.0</td>\n",
       "      <td>1.0</td>\n",
       "      <td>1.0</td>\n",
       "      <td>1.0</td>\n",
       "      <td>1.0</td>\n",
       "      <td>1.0</td>\n",
       "      <td>1.0</td>\n",
       "      <td>1.0</td>\n",
       "      <td>...</td>\n",
       "      <td>0.628828</td>\n",
       "      <td>0.860829</td>\n",
       "      <td>0.738619</td>\n",
       "      <td>0.000275</td>\n",
       "      <td>0.000393</td>\n",
       "      <td>0.002241</td>\n",
       "      <td>0.002640</td>\n",
       "      <td>0.002161</td>\n",
       "      <td>0.000535</td>\n",
       "      <td>0.001325</td>\n",
       "    </tr>\n",
       "    <tr>\n",
       "      <th>3</th>\n",
       "      <td>3</td>\n",
       "      <td>2.257190e-09</td>\n",
       "      <td>1.0</td>\n",
       "      <td>1.0</td>\n",
       "      <td>1.0</td>\n",
       "      <td>1.0</td>\n",
       "      <td>1.0</td>\n",
       "      <td>1.0</td>\n",
       "      <td>1.0</td>\n",
       "      <td>1.0</td>\n",
       "      <td>...</td>\n",
       "      <td>0.629007</td>\n",
       "      <td>0.860829</td>\n",
       "      <td>0.738627</td>\n",
       "      <td>0.000275</td>\n",
       "      <td>0.000397</td>\n",
       "      <td>0.002242</td>\n",
       "      <td>0.002645</td>\n",
       "      <td>0.002161</td>\n",
       "      <td>0.000540</td>\n",
       "      <td>0.001325</td>\n",
       "    </tr>\n",
       "    <tr>\n",
       "      <th>4</th>\n",
       "      <td>4</td>\n",
       "      <td>7.861430e-11</td>\n",
       "      <td>1.0</td>\n",
       "      <td>1.0</td>\n",
       "      <td>1.0</td>\n",
       "      <td>1.0</td>\n",
       "      <td>1.0</td>\n",
       "      <td>1.0</td>\n",
       "      <td>1.0</td>\n",
       "      <td>1.0</td>\n",
       "      <td>...</td>\n",
       "      <td>0.629012</td>\n",
       "      <td>0.860829</td>\n",
       "      <td>0.738627</td>\n",
       "      <td>0.000275</td>\n",
       "      <td>0.000397</td>\n",
       "      <td>0.002242</td>\n",
       "      <td>0.002645</td>\n",
       "      <td>0.002161</td>\n",
       "      <td>0.000540</td>\n",
       "      <td>0.001325</td>\n",
       "    </tr>\n",
       "  </tbody>\n",
       "</table>\n",
       "<p>5 rows × 32 columns</p>\n",
       "</div>"
      ],
      "text/plain": [
       "   step           rho  alpha_0  alpha_1  alpha_2  alpha_3  alpha_4  alpha_5  \\\n",
       "0     0  1.000000e-01      0.9      0.9      0.9      0.9      0.9      0.9   \n",
       "1     1  7.505730e-06      1.0      1.0      1.0      1.0      1.0      1.0   \n",
       "2     2  7.312690e-08      1.0      1.0      1.0      1.0      1.0      1.0   \n",
       "3     3  2.257190e-09      1.0      1.0      1.0      1.0      1.0      1.0   \n",
       "4     4  7.861430e-11      1.0      1.0      1.0      1.0      1.0      1.0   \n",
       "\n",
       "   alpha_6  alpha_7  ...    beta_5    beta_6    beta_7    beta_8    beta_9  \\\n",
       "0      0.9      0.9  ...  0.100000  0.100000  0.100000  0.100000  0.100000   \n",
       "1      1.0      1.0  ...  0.392064  0.754141  0.266559  0.000021  0.000008   \n",
       "2      1.0      1.0  ...  0.628828  0.860829  0.738619  0.000275  0.000393   \n",
       "3      1.0      1.0  ...  0.629007  0.860829  0.738627  0.000275  0.000397   \n",
       "4      1.0      1.0  ...  0.629012  0.860829  0.738627  0.000275  0.000397   \n",
       "\n",
       "    beta_10   beta_11   beta_12   beta_13   beta_14  \n",
       "0  0.100000  0.100000  0.100000  0.100000  0.100000  \n",
       "1  0.000233  0.000148  0.000348  0.000010  0.000098  \n",
       "2  0.002241  0.002640  0.002161  0.000535  0.001325  \n",
       "3  0.002242  0.002645  0.002161  0.000540  0.001325  \n",
       "4  0.002242  0.002645  0.002161  0.000540  0.001325  \n",
       "\n",
       "[5 rows x 32 columns]"
      ]
     },
     "execution_count": 23,
     "metadata": {},
     "output_type": "execute_result"
    }
   ],
   "source": [
    "df.head()"
   ]
  },
  {
   "cell_type": "code",
   "execution_count": 24,
   "id": "measured-miniature",
   "metadata": {},
   "outputs": [
    {
     "data": {
      "image/png": "[encoded data removed]",
      "text/plain": [
       "<Figure size 432x288 with 1 Axes>"
      ]
     },
     "metadata": {
      "needs_background": "light"
     },
     "output_type": "display_data"
    }
   ],
   "source": [
    "plt.figure()\n",
    "plt.plot(df[\"beta_9\"])\n",
    "plt.show()"
   ]
  },
  {
   "cell_type": "code",
   "execution_count": 39,
   "id": "interested-liability",
   "metadata": {},
   "outputs": [
    {
     "data": {
      "image/png": "[encoded data removed]",
      "text/plain": [
       "<Figure size 432x288 with 1 Axes>"
      ]
     },
     "metadata": {
      "needs_background": "light"
     },
     "output_type": "display_data"
    }
   ],
   "source": [
    "plt.figure()\n",
    "for i in range(4):\n",
    "    df = pd.read_csv(\"test{}.csv\".format(i), comment=\"#\")\n",
    "    plt.plot(df[\"alpha_1\"])\n",
    "plt.show()"
   ]
  },
  {
   "cell_type": "code",
   "execution_count": null,
   "id": "brave-pottery",
   "metadata": {},
   "outputs": [],
   "source": []
  }
 ],
 "metadata": {
  "kernelspec": {
   "display_name": "Python 3",
   "language": "python",
   "name": "python3"
  },
  "language_info": {
   "codemirror_mode": {
    "name": "ipython",
    "version": 3
   },
   "file_extension": ".py",
   "mimetype": "text/x-python",
   "name": "python",
   "nbconvert_exporter": "python",
   "pygments_lexer": "ipython3",
   "version": "3.8.5"
  }
 },
 "nbformat": 4,
 "nbformat_minor": 5
}
